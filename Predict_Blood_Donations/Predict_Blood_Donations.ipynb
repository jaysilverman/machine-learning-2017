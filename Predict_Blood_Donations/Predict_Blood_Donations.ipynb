{
 "cells": [
  {
   "cell_type": "code",
   "execution_count": 1,
   "metadata": {
    "collapsed": true
   },
   "outputs": [],
   "source": [
    "import matplotlib as mpl\n",
    "import matplotlib.pyplot as plt\n",
    "import numpy as np\n",
    "import pandas as pd\n",
    "import seaborn as sns\n",
    "\n",
    "from sklearn.metrics import log_loss\n",
    "\n",
    "from sklearn.model_selection import cross_val_score\n",
    "from sklearn.model_selection import GridSearchCV\n",
    "from sklearn.model_selection import train_test_split\n",
    "\n",
    "from sklearn.dummy import DummyClassifier\n",
    "from sklearn.linear_model import LogisticRegression\n",
    "from sklearn.neighbors import KNeighborsClassifier\n",
    "from sklearn.svm import SVC\n",
    "from sklearn.ensemble import GradientBoostingClassifier\n",
    "from sklearn.ensemble import RandomForestClassifier\n",
    "from sklearn.ensemble import AdaBoostClassifier\n",
    "from sklearn.ensemble import BaggingClassifier\n",
    "from sklearn.neural_network import MLPClassifier\n",
    "\n",
    "%matplotlib inline"
   ]
  },
  {
   "cell_type": "code",
   "execution_count": 2,
   "metadata": {
    "collapsed": true
   },
   "outputs": [],
   "source": [
    "pd.set_option('display.max_columns', 100)\n",
    "\n",
    "mpl.rc(group='figure', figsize=(10,8))\n",
    "plt.style.use('seaborn')"
   ]
  },
  {
   "cell_type": "markdown",
   "metadata": {},
   "source": [
    "## Load the training dataset\n",
    "* 576 examples"
   ]
  },
  {
   "cell_type": "code",
   "execution_count": 3,
   "metadata": {},
   "outputs": [
    {
     "data": {
      "text/html": [
       "<div>\n",
       "<style>\n",
       "    .dataframe thead tr:only-child th {\n",
       "        text-align: right;\n",
       "    }\n",
       "\n",
       "    .dataframe thead th {\n",
       "        text-align: left;\n",
       "    }\n",
       "\n",
       "    .dataframe tbody tr th {\n",
       "        vertical-align: top;\n",
       "    }\n",
       "</style>\n",
       "<table border=\"1\" class=\"dataframe\">\n",
       "  <thead>\n",
       "    <tr style=\"text-align: right;\">\n",
       "      <th></th>\n",
       "      <th>Months_Since_Last</th>\n",
       "      <th>Donations</th>\n",
       "      <th>Total_Volume</th>\n",
       "      <th>Months_Since_First</th>\n",
       "      <th>Made_Donation</th>\n",
       "    </tr>\n",
       "  </thead>\n",
       "  <tbody>\n",
       "    <tr>\n",
       "      <th>619</th>\n",
       "      <td>2</td>\n",
       "      <td>50</td>\n",
       "      <td>12500</td>\n",
       "      <td>98</td>\n",
       "      <td>1</td>\n",
       "    </tr>\n",
       "    <tr>\n",
       "      <th>664</th>\n",
       "      <td>0</td>\n",
       "      <td>13</td>\n",
       "      <td>3250</td>\n",
       "      <td>28</td>\n",
       "      <td>1</td>\n",
       "    </tr>\n",
       "    <tr>\n",
       "      <th>441</th>\n",
       "      <td>1</td>\n",
       "      <td>16</td>\n",
       "      <td>4000</td>\n",
       "      <td>35</td>\n",
       "      <td>1</td>\n",
       "    </tr>\n",
       "    <tr>\n",
       "      <th>160</th>\n",
       "      <td>2</td>\n",
       "      <td>20</td>\n",
       "      <td>5000</td>\n",
       "      <td>45</td>\n",
       "      <td>1</td>\n",
       "    </tr>\n",
       "    <tr>\n",
       "      <th>358</th>\n",
       "      <td>1</td>\n",
       "      <td>24</td>\n",
       "      <td>6000</td>\n",
       "      <td>77</td>\n",
       "      <td>0</td>\n",
       "    </tr>\n",
       "  </tbody>\n",
       "</table>\n",
       "</div>"
      ],
      "text/plain": [
       "     Months_Since_Last  Donations  Total_Volume  Months_Since_First  \\\n",
       "619                  2         50         12500                  98   \n",
       "664                  0         13          3250                  28   \n",
       "441                  1         16          4000                  35   \n",
       "160                  2         20          5000                  45   \n",
       "358                  1         24          6000                  77   \n",
       "\n",
       "     Made_Donation  \n",
       "619              1  \n",
       "664              1  \n",
       "441              1  \n",
       "160              1  \n",
       "358              0  "
      ]
     },
     "execution_count": 3,
     "metadata": {},
     "output_type": "execute_result"
    }
   ],
   "source": [
    "donations = pd.read_csv('https://s3.amazonaws.com/drivendata/data/2/public/9db113a1-cdbe-4b1c-98c2-11590f124dd8.csv', \n",
    "                        header=0, \n",
    "                        index_col=0,\n",
    "                        names=['Months_Since_Last', 'Donations', 'Total_Volume', \n",
    "                               'Months_Since_First', 'Made_Donation'])\n",
    "donations.head()"
   ]
  },
  {
   "cell_type": "code",
   "execution_count": 4,
   "metadata": {},
   "outputs": [
    {
     "name": "stdout",
     "output_type": "stream",
     "text": [
      "<class 'pandas.core.frame.DataFrame'>\n",
      "Int64Index: 576 entries, 619 to 74\n",
      "Data columns (total 5 columns):\n",
      "Months_Since_Last     576 non-null int64\n",
      "Donations             576 non-null int64\n",
      "Total_Volume          576 non-null int64\n",
      "Months_Since_First    576 non-null int64\n",
      "Made_Donation         576 non-null int64\n",
      "dtypes: int64(5)\n",
      "memory usage: 27.0 KB\n"
     ]
    }
   ],
   "source": [
    "donations.info()"
   ]
  },
  {
   "cell_type": "code",
   "execution_count": 5,
   "metadata": {
    "scrolled": true
   },
   "outputs": [
    {
     "data": {
      "text/html": [
       "<div>\n",
       "<style>\n",
       "    .dataframe thead tr:only-child th {\n",
       "        text-align: right;\n",
       "    }\n",
       "\n",
       "    .dataframe thead th {\n",
       "        text-align: left;\n",
       "    }\n",
       "\n",
       "    .dataframe tbody tr th {\n",
       "        vertical-align: top;\n",
       "    }\n",
       "</style>\n",
       "<table border=\"1\" class=\"dataframe\">\n",
       "  <thead>\n",
       "    <tr style=\"text-align: right;\">\n",
       "      <th></th>\n",
       "      <th>Months_Since_Last</th>\n",
       "      <th>Donations</th>\n",
       "      <th>Total_Volume</th>\n",
       "      <th>Months_Since_First</th>\n",
       "      <th>Made_Donation</th>\n",
       "    </tr>\n",
       "  </thead>\n",
       "  <tbody>\n",
       "    <tr>\n",
       "      <th>count</th>\n",
       "      <td>576.000000</td>\n",
       "      <td>576.000000</td>\n",
       "      <td>576.000000</td>\n",
       "      <td>576.000000</td>\n",
       "      <td>576.000000</td>\n",
       "    </tr>\n",
       "    <tr>\n",
       "      <th>mean</th>\n",
       "      <td>9.439236</td>\n",
       "      <td>5.427083</td>\n",
       "      <td>1356.770833</td>\n",
       "      <td>34.050347</td>\n",
       "      <td>0.239583</td>\n",
       "    </tr>\n",
       "    <tr>\n",
       "      <th>std</th>\n",
       "      <td>8.175454</td>\n",
       "      <td>5.740010</td>\n",
       "      <td>1435.002556</td>\n",
       "      <td>24.227672</td>\n",
       "      <td>0.427200</td>\n",
       "    </tr>\n",
       "    <tr>\n",
       "      <th>min</th>\n",
       "      <td>0.000000</td>\n",
       "      <td>1.000000</td>\n",
       "      <td>250.000000</td>\n",
       "      <td>2.000000</td>\n",
       "      <td>0.000000</td>\n",
       "    </tr>\n",
       "    <tr>\n",
       "      <th>25%</th>\n",
       "      <td>2.000000</td>\n",
       "      <td>2.000000</td>\n",
       "      <td>500.000000</td>\n",
       "      <td>16.000000</td>\n",
       "      <td>0.000000</td>\n",
       "    </tr>\n",
       "    <tr>\n",
       "      <th>50%</th>\n",
       "      <td>7.000000</td>\n",
       "      <td>4.000000</td>\n",
       "      <td>1000.000000</td>\n",
       "      <td>28.000000</td>\n",
       "      <td>0.000000</td>\n",
       "    </tr>\n",
       "    <tr>\n",
       "      <th>75%</th>\n",
       "      <td>14.000000</td>\n",
       "      <td>7.000000</td>\n",
       "      <td>1750.000000</td>\n",
       "      <td>49.250000</td>\n",
       "      <td>0.000000</td>\n",
       "    </tr>\n",
       "    <tr>\n",
       "      <th>max</th>\n",
       "      <td>74.000000</td>\n",
       "      <td>50.000000</td>\n",
       "      <td>12500.000000</td>\n",
       "      <td>98.000000</td>\n",
       "      <td>1.000000</td>\n",
       "    </tr>\n",
       "  </tbody>\n",
       "</table>\n",
       "</div>"
      ],
      "text/plain": [
       "       Months_Since_Last   Donations  Total_Volume  Months_Since_First  \\\n",
       "count         576.000000  576.000000    576.000000          576.000000   \n",
       "mean            9.439236    5.427083   1356.770833           34.050347   \n",
       "std             8.175454    5.740010   1435.002556           24.227672   \n",
       "min             0.000000    1.000000    250.000000            2.000000   \n",
       "25%             2.000000    2.000000    500.000000           16.000000   \n",
       "50%             7.000000    4.000000   1000.000000           28.000000   \n",
       "75%            14.000000    7.000000   1750.000000           49.250000   \n",
       "max            74.000000   50.000000  12500.000000           98.000000   \n",
       "\n",
       "       Made_Donation  \n",
       "count     576.000000  \n",
       "mean        0.239583  \n",
       "std         0.427200  \n",
       "min         0.000000  \n",
       "25%         0.000000  \n",
       "50%         0.000000  \n",
       "75%         0.000000  \n",
       "max         1.000000  "
      ]
     },
     "execution_count": 5,
     "metadata": {},
     "output_type": "execute_result"
    }
   ],
   "source": [
    "donations.describe()"
   ]
  },
  {
   "cell_type": "markdown",
   "metadata": {},
   "source": [
    "## Load the test dataset\n",
    "* 200 examples"
   ]
  },
  {
   "cell_type": "code",
   "execution_count": 6,
   "metadata": {},
   "outputs": [
    {
     "data": {
      "text/html": [
       "<div>\n",
       "<style>\n",
       "    .dataframe thead tr:only-child th {\n",
       "        text-align: right;\n",
       "    }\n",
       "\n",
       "    .dataframe thead th {\n",
       "        text-align: left;\n",
       "    }\n",
       "\n",
       "    .dataframe tbody tr th {\n",
       "        vertical-align: top;\n",
       "    }\n",
       "</style>\n",
       "<table border=\"1\" class=\"dataframe\">\n",
       "  <thead>\n",
       "    <tr style=\"text-align: right;\">\n",
       "      <th></th>\n",
       "      <th>Months_Since_Last</th>\n",
       "      <th>Donations</th>\n",
       "      <th>Total_Volume</th>\n",
       "      <th>Months_Since_First</th>\n",
       "    </tr>\n",
       "  </thead>\n",
       "  <tbody>\n",
       "    <tr>\n",
       "      <th>659</th>\n",
       "      <td>2</td>\n",
       "      <td>12</td>\n",
       "      <td>3000</td>\n",
       "      <td>52</td>\n",
       "    </tr>\n",
       "    <tr>\n",
       "      <th>276</th>\n",
       "      <td>21</td>\n",
       "      <td>7</td>\n",
       "      <td>1750</td>\n",
       "      <td>38</td>\n",
       "    </tr>\n",
       "    <tr>\n",
       "      <th>263</th>\n",
       "      <td>4</td>\n",
       "      <td>1</td>\n",
       "      <td>250</td>\n",
       "      <td>4</td>\n",
       "    </tr>\n",
       "    <tr>\n",
       "      <th>303</th>\n",
       "      <td>11</td>\n",
       "      <td>11</td>\n",
       "      <td>2750</td>\n",
       "      <td>38</td>\n",
       "    </tr>\n",
       "    <tr>\n",
       "      <th>83</th>\n",
       "      <td>4</td>\n",
       "      <td>12</td>\n",
       "      <td>3000</td>\n",
       "      <td>34</td>\n",
       "    </tr>\n",
       "  </tbody>\n",
       "</table>\n",
       "</div>"
      ],
      "text/plain": [
       "     Months_Since_Last  Donations  Total_Volume  Months_Since_First\n",
       "659                  2         12          3000                  52\n",
       "276                 21          7          1750                  38\n",
       "263                  4          1           250                   4\n",
       "303                 11         11          2750                  38\n",
       "83                   4         12          3000                  34"
      ]
     },
     "execution_count": 6,
     "metadata": {},
     "output_type": "execute_result"
    }
   ],
   "source": [
    "X_test = pd.read_csv('https://s3.amazonaws.com/drivendata/data/2/public/5c9fa979-5a84-45d6-93b9-543d1a0efc41.csv', \n",
    "                     header=0, \n",
    "                     index_col=0,\n",
    "                     names=['Months_Since_Last', 'Donations', 'Total_Volume',\n",
    "                            'Months_Since_First'])\n",
    "X_test.head()"
   ]
  },
  {
   "cell_type": "code",
   "execution_count": 7,
   "metadata": {},
   "outputs": [
    {
     "name": "stdout",
     "output_type": "stream",
     "text": [
      "<class 'pandas.core.frame.DataFrame'>\n",
      "Int64Index: 200 entries, 659 to 154\n",
      "Data columns (total 4 columns):\n",
      "Months_Since_Last     200 non-null int64\n",
      "Donations             200 non-null int64\n",
      "Total_Volume          200 non-null int64\n",
      "Months_Since_First    200 non-null int64\n",
      "dtypes: int64(4)\n",
      "memory usage: 7.8 KB\n"
     ]
    }
   ],
   "source": [
    "X_test.info()"
   ]
  },
  {
   "cell_type": "markdown",
   "metadata": {},
   "source": [
    "## Split the training dataset into feature (X) and label dataframes (y)"
   ]
  },
  {
   "cell_type": "code",
   "execution_count": 8,
   "metadata": {
    "scrolled": true
   },
   "outputs": [
    {
     "data": {
      "text/html": [
       "<div>\n",
       "<style>\n",
       "    .dataframe thead tr:only-child th {\n",
       "        text-align: right;\n",
       "    }\n",
       "\n",
       "    .dataframe thead th {\n",
       "        text-align: left;\n",
       "    }\n",
       "\n",
       "    .dataframe tbody tr th {\n",
       "        vertical-align: top;\n",
       "    }\n",
       "</style>\n",
       "<table border=\"1\" class=\"dataframe\">\n",
       "  <thead>\n",
       "    <tr style=\"text-align: right;\">\n",
       "      <th></th>\n",
       "      <th>Months_Since_Last</th>\n",
       "      <th>Donations</th>\n",
       "      <th>Total_Volume</th>\n",
       "      <th>Months_Since_First</th>\n",
       "    </tr>\n",
       "  </thead>\n",
       "  <tbody>\n",
       "    <tr>\n",
       "      <th>619</th>\n",
       "      <td>2</td>\n",
       "      <td>50</td>\n",
       "      <td>12500</td>\n",
       "      <td>98</td>\n",
       "    </tr>\n",
       "    <tr>\n",
       "      <th>664</th>\n",
       "      <td>0</td>\n",
       "      <td>13</td>\n",
       "      <td>3250</td>\n",
       "      <td>28</td>\n",
       "    </tr>\n",
       "    <tr>\n",
       "      <th>441</th>\n",
       "      <td>1</td>\n",
       "      <td>16</td>\n",
       "      <td>4000</td>\n",
       "      <td>35</td>\n",
       "    </tr>\n",
       "    <tr>\n",
       "      <th>160</th>\n",
       "      <td>2</td>\n",
       "      <td>20</td>\n",
       "      <td>5000</td>\n",
       "      <td>45</td>\n",
       "    </tr>\n",
       "    <tr>\n",
       "      <th>358</th>\n",
       "      <td>1</td>\n",
       "      <td>24</td>\n",
       "      <td>6000</td>\n",
       "      <td>77</td>\n",
       "    </tr>\n",
       "  </tbody>\n",
       "</table>\n",
       "</div>"
      ],
      "text/plain": [
       "     Months_Since_Last  Donations  Total_Volume  Months_Since_First\n",
       "619                  2         50         12500                  98\n",
       "664                  0         13          3250                  28\n",
       "441                  1         16          4000                  35\n",
       "160                  2         20          5000                  45\n",
       "358                  1         24          6000                  77"
      ]
     },
     "execution_count": 8,
     "metadata": {},
     "output_type": "execute_result"
    }
   ],
   "source": [
    "X_donations = donations.drop('Made_Donation', axis=1)\n",
    "X_donations.head()"
   ]
  },
  {
   "cell_type": "code",
   "execution_count": 9,
   "metadata": {},
   "outputs": [
    {
     "data": {
      "text/plain": [
       "619    1\n",
       "664    1\n",
       "441    1\n",
       "160    1\n",
       "358    0\n",
       "Name: Made_Donation, dtype: int64"
      ]
     },
     "execution_count": 9,
     "metadata": {},
     "output_type": "execute_result"
    }
   ],
   "source": [
    "y_donations = donations['Made_Donation']\n",
    "y_donations.head()"
   ]
  },
  {
   "cell_type": "markdown",
   "metadata": {},
   "source": [
    "## Combine the training and test datasets temporarily to make it easier to analyze"
   ]
  },
  {
   "cell_type": "code",
   "execution_count": 10,
   "metadata": {},
   "outputs": [
    {
     "name": "stdout",
     "output_type": "stream",
     "text": [
      "X_combined: (776, 4)\n"
     ]
    }
   ],
   "source": [
    "X_combined = pd.concat([X_donations, X_test], axis=0)\n",
    "print(f'X_combined: {X_combined.shape}')"
   ]
  },
  {
   "cell_type": "markdown",
   "metadata": {},
   "source": [
    "## Total_Volume is always 250 times the number of donations so it is a redundant feature.\n",
    "* We will drop this feature."
   ]
  },
  {
   "cell_type": "code",
   "execution_count": 11,
   "metadata": {
    "scrolled": false
   },
   "outputs": [
    {
     "data": {
      "text/plain": [
       "250.0    776\n",
       "dtype: int64"
      ]
     },
     "execution_count": 11,
     "metadata": {},
     "output_type": "execute_result"
    }
   ],
   "source": [
    "volume_per_donation = X_combined.Total_Volume / X_combined.Donations\n",
    "volume_per_donation.value_counts()"
   ]
  },
  {
   "cell_type": "markdown",
   "metadata": {},
   "source": [
    "## There are several cases where there appear to have been multiple donations given on the first and only donation. This would appear to be erroneous information which distorts the feature. \n",
    "* We will correct these examples and set the number of donations to 1 downstream."
   ]
  },
  {
   "cell_type": "code",
   "execution_count": 12,
   "metadata": {},
   "outputs": [
    {
     "data": {
      "text/html": [
       "<div>\n",
       "<style>\n",
       "    .dataframe thead tr:only-child th {\n",
       "        text-align: right;\n",
       "    }\n",
       "\n",
       "    .dataframe thead th {\n",
       "        text-align: left;\n",
       "    }\n",
       "\n",
       "    .dataframe tbody tr th {\n",
       "        vertical-align: top;\n",
       "    }\n",
       "</style>\n",
       "<table border=\"1\" class=\"dataframe\">\n",
       "  <thead>\n",
       "    <tr style=\"text-align: right;\">\n",
       "      <th></th>\n",
       "      <th>Months_Since_Last</th>\n",
       "      <th>Donations</th>\n",
       "      <th>Total_Volume</th>\n",
       "      <th>Months_Since_First</th>\n",
       "    </tr>\n",
       "  </thead>\n",
       "  <tbody>\n",
       "    <tr>\n",
       "      <th>313</th>\n",
       "      <td>14</td>\n",
       "      <td>5</td>\n",
       "      <td>1250</td>\n",
       "      <td>14</td>\n",
       "    </tr>\n",
       "    <tr>\n",
       "      <th>335</th>\n",
       "      <td>4</td>\n",
       "      <td>4</td>\n",
       "      <td>1000</td>\n",
       "      <td>4</td>\n",
       "    </tr>\n",
       "    <tr>\n",
       "      <th>190</th>\n",
       "      <td>4</td>\n",
       "      <td>4</td>\n",
       "      <td>1000</td>\n",
       "      <td>4</td>\n",
       "    </tr>\n",
       "    <tr>\n",
       "      <th>391</th>\n",
       "      <td>2</td>\n",
       "      <td>2</td>\n",
       "      <td>500</td>\n",
       "      <td>2</td>\n",
       "    </tr>\n",
       "    <tr>\n",
       "      <th>396</th>\n",
       "      <td>21</td>\n",
       "      <td>2</td>\n",
       "      <td>500</td>\n",
       "      <td>21</td>\n",
       "    </tr>\n",
       "  </tbody>\n",
       "</table>\n",
       "</div>"
      ],
      "text/plain": [
       "     Months_Since_Last  Donations  Total_Volume  Months_Since_First\n",
       "313                 14          5          1250                  14\n",
       "335                  4          4          1000                   4\n",
       "190                  4          4          1000                   4\n",
       "391                  2          2           500                   2\n",
       "396                 21          2           500                  21"
      ]
     },
     "execution_count": 12,
     "metadata": {},
     "output_type": "execute_result"
    }
   ],
   "source": [
    "xc = X_donations\n",
    "\n",
    "multiple_first_donation = (xc['Months_Since_Last'] == xc['Months_Since_First']) & \\\n",
    "                          (xc['Donations'] > 1)\n",
    "    \n",
    "xc[multiple_first_donation].sort_values(by='Donations', ascending=False).head()"
   ]
  },
  {
   "cell_type": "markdown",
   "metadata": {},
   "source": [
    "## Box plots\n",
    "* Donations have a lot of outliers"
   ]
  },
  {
   "cell_type": "code",
   "execution_count": 13,
   "metadata": {},
   "outputs": [
    {
     "data": {
      "image/png": "[encoded data removed]",
      "text/plain": [
       "<matplotlib.figure.Figure at 0x11a6b7b70>"
      ]
     },
     "metadata": {},
     "output_type": "display_data"
    }
   ],
   "source": [
    "xc = X_donations\n",
    "\n",
    "fig, axes = plt.subplots(1, 3, sharey=True)\n",
    "xc['Months_Since_Last'].plot.box(sym='k.', ax=axes[0])\n",
    "xc['Months_Since_First'].plot.box(sym='k.', ax=axes[1])\n",
    "xc['Donations'].plot.box(sym='k.', ax=axes[2]);\n",
    "plt.tight_layout()"
   ]
  },
  {
   "cell_type": "markdown",
   "metadata": {},
   "source": [
    "## Histograms"
   ]
  },
  {
   "cell_type": "code",
   "execution_count": 14,
   "metadata": {},
   "outputs": [
    {
     "data": {
      "image/png": "[encoded data removed]",
      "text/plain": [
       "<matplotlib.figure.Figure at 0x11a6b7908>"
      ]
     },
     "metadata": {},
     "output_type": "display_data"
    }
   ],
   "source": [
    "xc = X_donations\n",
    "\n",
    "fig, axes = plt.subplots(2, 2)\n",
    "xc['Months_Since_Last'].plot.hist(title='Months Since Last', ax=axes[0,0]);\n",
    "xc['Donations'].plot.hist(title='Number of Donations', ax=axes[0,1]);\n",
    "xc['Months_Since_First'].plot.hist(title='Months Since First', ax=axes[1,0]);\n",
    "axes[1,1].remove()\n",
    "plt.tight_layout()"
   ]
  },
  {
   "cell_type": "markdown",
   "metadata": {},
   "source": [
    "## Let's engineer a new feature to reflect the donation rate\n",
    "* There is a slightly stronger correlation between the donation rate and those who made a donation compared to the number of donations. So we will add this as a new feature."
   ]
  },
  {
   "cell_type": "code",
   "execution_count": 15,
   "metadata": {
    "scrolled": true
   },
   "outputs": [
    {
     "data": {
      "text/plain": [
       "Months_Since_Last       -0.261234\n",
       "Donations                0.220615\n",
       "Total_Volume             0.220615\n",
       "Months_Since_First      -0.019819\n",
       "Made_Donation            1.000000\n",
       "Current_Donation_Rate    0.240273\n",
       "Name: Made_Donation, dtype: float64"
      ]
     },
     "execution_count": 15,
     "metadata": {},
     "output_type": "execute_result"
    }
   ],
   "source": [
    "donations['Current_Donation_Rate'] = donations.Donations / donations.Months_Since_First\n",
    "donations.corr().Made_Donation"
   ]
  },
  {
   "cell_type": "markdown",
   "metadata": {},
   "source": [
    "## Divide the whole training datset into a smaller training dataset, and a cross validation dataset to be used for out of sample evaluation.\n",
    "* Use stratify to maintain the same percentage of people who gave donations in the original dataset in the new datasets."
   ]
  },
  {
   "cell_type": "code",
   "execution_count": 16,
   "metadata": {
    "collapsed": true
   },
   "outputs": [],
   "source": [
    "X_train, X_cross, y_train, y_cross = train_test_split(X_donations, \n",
    "                                                      y_donations,\n",
    "                                                      test_size=0.2,\n",
    "                                                      stratify=y_donations, \n",
    "                                                      random_state=67)"
   ]
  },
  {
   "cell_type": "markdown",
   "metadata": {},
   "source": [
    "## Apply changes to the training dataset and cross validation dataset\n",
    "* Drop the Total_Volume feature\n",
    "* Changes Donations to 1 if only one donation was made but Donations > 1\n",
    "* Add a new Current_Donation_Rate feature"
   ]
  },
  {
   "cell_type": "code",
   "execution_count": 17,
   "metadata": {
    "collapsed": true
   },
   "outputs": [],
   "source": [
    "features = ['Months_Since_Last', 'Donations', 'Months_Since_First']\n",
    "drop_features = ['Total_Volume']\n",
    "new_features = ['Current_Donation_Rate']"
   ]
  },
  {
   "cell_type": "code",
   "execution_count": 18,
   "metadata": {
    "collapsed": true
   },
   "outputs": [],
   "source": [
    "def transform_dataframe(df):\n",
    "    df = df.copy()\n",
    "\n",
    "    # Handle distorted number of donations\n",
    "    # Change donations to 1\n",
    "    distorted = (df['Months_Since_Last'] == df['Months_Since_First']) & (df['Donations'] > 1)\n",
    "    df.loc[distorted, 'Donations'] = 1\n",
    "    \n",
    "    # Add new feature\n",
    "    df['Current_Donation_Rate'] = df.Donations / df.Months_Since_First\n",
    "\n",
    "    # Drop unused features\n",
    "    df.drop(drop_features, axis=1, inplace=True)    \n",
    "    \n",
    "    return df"
   ]
  },
  {
   "cell_type": "code",
   "execution_count": 19,
   "metadata": {
    "collapsed": true
   },
   "outputs": [],
   "source": [
    "X_train = transform_dataframe(X_train)\n",
    "X_cross = transform_dataframe(X_cross)"
   ]
  },
  {
   "cell_type": "markdown",
   "metadata": {},
   "source": [
    "## Normalize the feature values"
   ]
  },
  {
   "cell_type": "code",
   "execution_count": 20,
   "metadata": {
    "collapsed": true
   },
   "outputs": [],
   "source": [
    "def normalize(feature):\n",
    "    return (feature - feature.mean()) / feature.std()"
   ]
  },
  {
   "cell_type": "code",
   "execution_count": 21,
   "metadata": {
    "collapsed": true
   },
   "outputs": [],
   "source": [
    "X_train[features] = X_train[features].apply(normalize, axis=0)\n",
    "X_cross[features] = X_cross[features].apply(normalize, axis=0)"
   ]
  },
  {
   "cell_type": "markdown",
   "metadata": {},
   "source": [
    "## Try various classifier algorithms to see which look most promising\n",
    "* Dummy (baseline)\n",
    "* Logistic Regression\n",
    "* KNN\n",
    "* SVM\n",
    "* Gradient Boosting\n",
    "* Random Forest\n",
    "* Ada Boost\n",
    "* Bagging\n",
    "* MLP (neural network)"
   ]
  },
  {
   "cell_type": "markdown",
   "metadata": {},
   "source": [
    "### Goal in the competition is to minimize log loss in predicting the probability the donor made a donation."
   ]
  },
  {
   "cell_type": "code",
   "execution_count": 22,
   "metadata": {
    "collapsed": true
   },
   "outputs": [],
   "source": [
    "def train_cross_val_score(clf, X, y, scoring='neg_log_loss'):\n",
    "    clf.fit(X_train, y_train)\n",
    "    scores = cross_val_score(clf, X, y, scoring=scoring)\n",
    "    print(\"Scores: {}\".format(scores))\n",
    "    print(\"Avg Score: {}\".format(scores.mean()))"
   ]
  },
  {
   "cell_type": "markdown",
   "metadata": {},
   "source": [
    "### Dummy classifier"
   ]
  },
  {
   "cell_type": "code",
   "execution_count": 23,
   "metadata": {},
   "outputs": [
    {
     "name": "stdout",
     "output_type": "stream",
     "text": [
      "Scores: [-8.29827745 -8.29827745 -8.18023651]\n",
      "Avg Score: -8.258930468548362\n"
     ]
    }
   ],
   "source": [
    "clf = DummyClassifier(strategy='most_frequent')\n",
    "y_pred = train_cross_val_score(clf, X_train, y_train)"
   ]
  },
  {
   "cell_type": "markdown",
   "metadata": {},
   "source": [
    "### Logistic Regression"
   ]
  },
  {
   "cell_type": "code",
   "execution_count": 24,
   "metadata": {},
   "outputs": [
    {
     "name": "stdout",
     "output_type": "stream",
     "text": [
      "Scores: [-0.4680469  -0.4536066  -0.54334848]\n",
      "Avg Score: -0.4883339946082632\n"
     ]
    }
   ],
   "source": [
    "clf = LogisticRegression(random_state=67)\n",
    "y_pred = train_cross_val_score(clf, X_train, y_train)"
   ]
  },
  {
   "cell_type": "markdown",
   "metadata": {},
   "source": [
    "### KNN"
   ]
  },
  {
   "cell_type": "code",
   "execution_count": 25,
   "metadata": {
    "scrolled": true
   },
   "outputs": [
    {
     "name": "stdout",
     "output_type": "stream",
     "text": [
      "Scores: [-2.35165899 -2.15978689 -3.69215785]\n",
      "Avg Score: -2.7345345747493046\n"
     ]
    }
   ],
   "source": [
    "clf = KNeighborsClassifier()\n",
    "y_pred = train_cross_val_score(clf, X_train, y_train)"
   ]
  },
  {
   "cell_type": "markdown",
   "metadata": {},
   "source": [
    "### SVM"
   ]
  },
  {
   "cell_type": "code",
   "execution_count": 26,
   "metadata": {},
   "outputs": [
    {
     "name": "stdout",
     "output_type": "stream",
     "text": [
      "Scores: [-0.5474674  -0.55132371 -0.55259935]\n",
      "Avg Score: -0.5504634868780257\n"
     ]
    }
   ],
   "source": [
    "clf = SVC(kernel='linear', probability=True, random_state=67)\n",
    "y_pred = train_cross_val_score(clf, X_train, y_train)"
   ]
  },
  {
   "cell_type": "code",
   "execution_count": 27,
   "metadata": {},
   "outputs": [
    {
     "name": "stdout",
     "output_type": "stream",
     "text": [
      "Scores: [-0.50240181 -0.53273641 -0.58055789]\n",
      "Avg Score: -0.5385653725672941\n"
     ]
    }
   ],
   "source": [
    "clf = SVC(kernel='poly', probability=True, random_state=67)\n",
    "y_pred = train_cross_val_score(clf, X_train, y_train)"
   ]
  },
  {
   "cell_type": "code",
   "execution_count": 28,
   "metadata": {},
   "outputs": [
    {
     "name": "stdout",
     "output_type": "stream",
     "text": [
      "Scores: [-0.49095601 -0.47533713 -0.51709466]\n",
      "Avg Score: -0.49446260199319925\n"
     ]
    }
   ],
   "source": [
    "clf = SVC(kernel='rbf', probability=True, random_state=67)\n",
    "y_pred = train_cross_val_score(clf, X_train, y_train)"
   ]
  },
  {
   "cell_type": "markdown",
   "metadata": {},
   "source": [
    "### Gradient Boosting"
   ]
  },
  {
   "cell_type": "code",
   "execution_count": 29,
   "metadata": {},
   "outputs": [
    {
     "name": "stdout",
     "output_type": "stream",
     "text": [
      "Scores: [-0.50415089 -0.50984003 -0.57954877]\n",
      "Avg Score: -0.5311798991044093\n"
     ]
    }
   ],
   "source": [
    "clf = GradientBoostingClassifier(random_state=67)\n",
    "y_pred = train_cross_val_score(clf, X_train, y_train)"
   ]
  },
  {
   "cell_type": "markdown",
   "metadata": {},
   "source": [
    "### Random Forest"
   ]
  },
  {
   "cell_type": "code",
   "execution_count": 30,
   "metadata": {},
   "outputs": [
    {
     "name": "stdout",
     "output_type": "stream",
     "text": [
      "Scores: [-1.74422881 -1.99861349 -2.42671157]\n",
      "Avg Score: -2.0565179582768116\n"
     ]
    }
   ],
   "source": [
    "clf = RandomForestClassifier(random_state=67)\n",
    "y_pred = train_cross_val_score(clf, X_train, y_train)"
   ]
  },
  {
   "cell_type": "markdown",
   "metadata": {},
   "source": [
    "### Ada Boost"
   ]
  },
  {
   "cell_type": "code",
   "execution_count": 31,
   "metadata": {},
   "outputs": [
    {
     "name": "stdout",
     "output_type": "stream",
     "text": [
      "Scores: [-0.6699713  -0.67746031 -0.66927594]\n",
      "Avg Score: -0.6722358509061493\n"
     ]
    }
   ],
   "source": [
    "clf = AdaBoostClassifier(random_state=67)\n",
    "y_pred = train_cross_val_score(clf, X_train, y_train)"
   ]
  },
  {
   "cell_type": "markdown",
   "metadata": {},
   "source": [
    "### Bagging"
   ]
  },
  {
   "cell_type": "code",
   "execution_count": 32,
   "metadata": {},
   "outputs": [
    {
     "name": "stdout",
     "output_type": "stream",
     "text": [
      "Scores: [-2.18038247 -1.39202249 -2.42666951]\n",
      "Avg Score: -1.9996914876260992\n"
     ]
    }
   ],
   "source": [
    "clf = BaggingClassifier(random_state=67)\n",
    "y_pred = train_cross_val_score(clf, X_train, y_train)"
   ]
  },
  {
   "cell_type": "markdown",
   "metadata": {},
   "source": [
    "### MLP"
   ]
  },
  {
   "cell_type": "code",
   "execution_count": 33,
   "metadata": {},
   "outputs": [
    {
     "name": "stdout",
     "output_type": "stream",
     "text": [
      "Scores: [-0.46002951 -0.43480835 -0.52717243]\n",
      "Avg Score: -0.4740034289061696\n"
     ]
    }
   ],
   "source": [
    "clf = MLPClassifier(max_iter=3000, random_state=67)\n",
    "y_pred = train_cross_val_score(clf, X_train, y_train)"
   ]
  },
  {
   "cell_type": "markdown",
   "metadata": {},
   "source": [
    "## Which features are most important?\n",
    "* It depends upon which classifier is used"
   ]
  },
  {
   "cell_type": "code",
   "execution_count": 34,
   "metadata": {
    "collapsed": true
   },
   "outputs": [],
   "source": [
    "def train_predict_proba_score(clf, X, y):\n",
    "    clf.fit(X, y)\n",
    "    y_pred = clf.predict_proba(X)\n",
    "    print('Score: ', log_loss(y_true=y, y_pred=y_pred[:,1]))\n",
    "    return y_pred[:,1]"
   ]
  },
  {
   "cell_type": "markdown",
   "metadata": {},
   "source": [
    "### Logistic Regression"
   ]
  },
  {
   "cell_type": "code",
   "execution_count": 35,
   "metadata": {},
   "outputs": [
    {
     "name": "stdout",
     "output_type": "stream",
     "text": [
      "Score:  0.476870369203\n"
     ]
    },
    {
     "data": {
      "text/html": [
       "<div>\n",
       "<style>\n",
       "    .dataframe thead tr:only-child th {\n",
       "        text-align: right;\n",
       "    }\n",
       "\n",
       "    .dataframe thead th {\n",
       "        text-align: left;\n",
       "    }\n",
       "\n",
       "    .dataframe tbody tr th {\n",
       "        vertical-align: top;\n",
       "    }\n",
       "</style>\n",
       "<table border=\"1\" class=\"dataframe\">\n",
       "  <thead>\n",
       "    <tr style=\"text-align: right;\">\n",
       "      <th></th>\n",
       "      <th>feature</th>\n",
       "      <th>importance</th>\n",
       "    </tr>\n",
       "  </thead>\n",
       "  <tbody>\n",
       "    <tr>\n",
       "      <th>1</th>\n",
       "      <td>Donations</td>\n",
       "      <td>0.813443</td>\n",
       "    </tr>\n",
       "    <tr>\n",
       "      <th>3</th>\n",
       "      <td>Current_Donation_Rate</td>\n",
       "      <td>0.079761</td>\n",
       "    </tr>\n",
       "    <tr>\n",
       "      <th>2</th>\n",
       "      <td>Months_Since_First</td>\n",
       "      <td>-0.512906</td>\n",
       "    </tr>\n",
       "    <tr>\n",
       "      <th>0</th>\n",
       "      <td>Months_Since_Last</td>\n",
       "      <td>-0.657709</td>\n",
       "    </tr>\n",
       "  </tbody>\n",
       "</table>\n",
       "</div>"
      ],
      "text/plain": [
       "                 feature  importance\n",
       "1              Donations    0.813443\n",
       "3  Current_Donation_Rate    0.079761\n",
       "2     Months_Since_First   -0.512906\n",
       "0      Months_Since_Last   -0.657709"
      ]
     },
     "execution_count": 35,
     "metadata": {},
     "output_type": "execute_result"
    }
   ],
   "source": [
    "clf = LogisticRegression()\n",
    "y_pred = train_predict_proba_score(clf, X_train, y_train)\n",
    "\n",
    "pd.DataFrame({'feature': X_train.columns, \n",
    "              'importance': clf.coef_[0]}).sort_values(by='importance', \n",
    "                                                                   ascending=False)"
   ]
  },
  {
   "cell_type": "markdown",
   "metadata": {},
   "source": [
    "### Random Forest"
   ]
  },
  {
   "cell_type": "code",
   "execution_count": 36,
   "metadata": {},
   "outputs": [
    {
     "name": "stdout",
     "output_type": "stream",
     "text": [
      "Score:  0.218778600637\n"
     ]
    },
    {
     "data": {
      "text/html": [
       "<div>\n",
       "<style>\n",
       "    .dataframe thead tr:only-child th {\n",
       "        text-align: right;\n",
       "    }\n",
       "\n",
       "    .dataframe thead th {\n",
       "        text-align: left;\n",
       "    }\n",
       "\n",
       "    .dataframe tbody tr th {\n",
       "        vertical-align: top;\n",
       "    }\n",
       "</style>\n",
       "<table border=\"1\" class=\"dataframe\">\n",
       "  <thead>\n",
       "    <tr style=\"text-align: right;\">\n",
       "      <th></th>\n",
       "      <th>feature</th>\n",
       "      <th>importance</th>\n",
       "    </tr>\n",
       "  </thead>\n",
       "  <tbody>\n",
       "    <tr>\n",
       "      <th>3</th>\n",
       "      <td>Current_Donation_Rate</td>\n",
       "      <td>0.386504</td>\n",
       "    </tr>\n",
       "    <tr>\n",
       "      <th>0</th>\n",
       "      <td>Months_Since_Last</td>\n",
       "      <td>0.214951</td>\n",
       "    </tr>\n",
       "    <tr>\n",
       "      <th>2</th>\n",
       "      <td>Months_Since_First</td>\n",
       "      <td>0.206902</td>\n",
       "    </tr>\n",
       "    <tr>\n",
       "      <th>1</th>\n",
       "      <td>Donations</td>\n",
       "      <td>0.191643</td>\n",
       "    </tr>\n",
       "  </tbody>\n",
       "</table>\n",
       "</div>"
      ],
      "text/plain": [
       "                 feature  importance\n",
       "3  Current_Donation_Rate    0.386504\n",
       "0      Months_Since_Last    0.214951\n",
       "2     Months_Since_First    0.206902\n",
       "1              Donations    0.191643"
      ]
     },
     "execution_count": 36,
     "metadata": {},
     "output_type": "execute_result"
    }
   ],
   "source": [
    "clf = RandomForestClassifier()\n",
    "y_pred = train_predict_proba_score(clf, X_train, y_train)\n",
    "\n",
    "pd.DataFrame({'feature': X_train.columns, \n",
    "              'importance': clf.feature_importances_}).sort_values(by='importance', \n",
    "                                                                   ascending=False)"
   ]
  },
  {
   "cell_type": "markdown",
   "metadata": {},
   "source": [
    "## Use grid search to determine optimal hyper-parameters for most promising classifiers\n",
    "* Logistic Regression\n",
    "* SVM\n",
    "* Gradient Boosting\n",
    "* MLP (neural network)"
   ]
  },
  {
   "cell_type": "code",
   "execution_count": 37,
   "metadata": {
    "collapsed": true
   },
   "outputs": [],
   "source": [
    "def grid_search_cross_val(clf, X, y, param_grid, scoring='neg_log_loss'):\n",
    "    grid = GridSearchCV(clf, param_grid=param_grid, scoring=scoring)\n",
    "    grid.fit(X, y)\n",
    "    print(\"Best score: {}\".format(grid.best_score_))\n",
    "    print(\"Best params: {}\".format(grid.best_params_))"
   ]
  },
  {
   "cell_type": "markdown",
   "metadata": {},
   "source": [
    "### Logistic Regression"
   ]
  },
  {
   "cell_type": "code",
   "execution_count": 39,
   "metadata": {},
   "outputs": [
    {
     "name": "stdout",
     "output_type": "stream",
     "text": [
      "Best score: -0.487238407205187\n",
      "Best params: {'C': 0.3, 'penalty': 'l2'}\n"
     ]
    }
   ],
   "source": [
    "clf = LogisticRegression(random_state=67)\n",
    "\n",
    "param_grid = [\n",
    "    {'penalty': ['l1', 'l2'] , 'C': [0.1, 0.3, 1.0, 3.0]}\n",
    "]\n",
    "\n",
    "grid_search_cross_val(clf, X_train, y_train, param_grid)"
   ]
  },
  {
   "cell_type": "markdown",
   "metadata": {},
   "source": [
    "### SVM"
   ]
  },
  {
   "cell_type": "code",
   "execution_count": 40,
   "metadata": {},
   "outputs": [
    {
     "name": "stdout",
     "output_type": "stream",
     "text": [
      "Best score: -0.4827223526825489\n",
      "Best params: {'C': 3.0, 'kernel': 'rbf'}\n"
     ]
    }
   ],
   "source": [
    "clf = SVC(probability=True, random_state=67)\n",
    "\n",
    "param_grid = [\n",
    "    {'C': [0.1, 0.3, 1.0, 3.0], 'kernel': ['linear', 'poly', 'rbf']}\n",
    "]\n",
    "\n",
    "grid_search_cross_val(clf, X_train, y_train, param_grid)"
   ]
  },
  {
   "cell_type": "code",
   "execution_count": 41,
   "metadata": {},
   "outputs": [
    {
     "name": "stdout",
     "output_type": "stream",
     "text": [
      "Best score: -0.4827223526825489\n",
      "Best params: {'C': 3.0, 'kernel': 'rbf'}\n"
     ]
    }
   ],
   "source": [
    "clf = SVC(probability=True, random_state=67)\n",
    "\n",
    "param_grid = [\n",
    "    {'C': [0.1, 0.3, 1.0, 3.0], 'kernel': ['linear', 'poly', 'rbf']}\n",
    "]\n",
    "\n",
    "grid_search_cross_val(clf, X_train, y_train, param_grid)"
   ]
  },
  {
   "cell_type": "markdown",
   "metadata": {},
   "source": [
    "### Gradient Boosting"
   ]
  },
  {
   "cell_type": "code",
   "execution_count": 42,
   "metadata": {},
   "outputs": [
    {
     "name": "stdout",
     "output_type": "stream",
     "text": [
      "Best score: -0.4782119450977432\n",
      "Best params: {'learning_rate': 0.1, 'max_depth': 2, 'n_estimators': 30}\n"
     ]
    }
   ],
   "source": [
    "clf = GradientBoostingClassifier(random_state=67)\n",
    "\n",
    "param_grid = [\n",
    "    {'learning_rate': [0.1, 0.3, 1.0, 3.0], 'n_estimators': [30, 100, 300], \n",
    "     'max_depth': [2, 3, 4, 5, None]}\n",
    "]\n",
    "\n",
    "grid_search_cross_val(clf, X_train, y_train, param_grid)"
   ]
  },
  {
   "cell_type": "markdown",
   "metadata": {},
   "source": [
    "### MLP"
   ]
  },
  {
   "cell_type": "code",
   "execution_count": 43,
   "metadata": {},
   "outputs": [
    {
     "name": "stdout",
     "output_type": "stream",
     "text": [
      "Best score: -0.4711310101817777\n",
      "Best params: {'alpha': 3e-05, 'hidden_layer_sizes': (10,), 'max_iter': 3000}\n"
     ]
    }
   ],
   "source": [
    "clf = MLPClassifier(random_state=67)\n",
    "\n",
    "param_grid = [\n",
    "    {'hidden_layer_sizes': [(10,), (30,), (100,)], \n",
    "     'max_iter': [3000, 10000, 30000],\n",
    "     'alpha': [0.00003, 0.0001, 0.0003, 0.001]}\n",
    "]\n",
    "\n",
    "grid_search_cross_val(clf, X_train, y_train, param_grid)"
   ]
  },
  {
   "cell_type": "markdown",
   "metadata": {},
   "source": [
    "## Use cross validation dataset to determine out of sample performance"
   ]
  },
  {
   "cell_type": "code",
   "execution_count": 44,
   "metadata": {
    "collapsed": true
   },
   "outputs": [],
   "source": [
    "def cross_val_out_of_sample(clf, X_train, y_train, X_cross, y_cross):\n",
    "    clf.fit(X_train, y_train)\n",
    "    y_pred = clf.predict_proba(X_cross)\n",
    "    print(log_loss(y_true=y_cross, y_pred=y_pred[:,1]))\n",
    "    return y_pred[:,1]"
   ]
  },
  {
   "cell_type": "markdown",
   "metadata": {},
   "source": [
    "### Logistic Regression"
   ]
  },
  {
   "cell_type": "code",
   "execution_count": 45,
   "metadata": {},
   "outputs": [
    {
     "name": "stdout",
     "output_type": "stream",
     "text": [
      "0.506109239571\n"
     ]
    }
   ],
   "source": [
    "clf = LogisticRegression(C=0.3, penalty='l2', random_state=67)\n",
    "y_pred = cross_val_out_of_sample(clf, X_train, y_train, X_cross, y_cross)"
   ]
  },
  {
   "cell_type": "markdown",
   "metadata": {},
   "source": [
    "### SVM"
   ]
  },
  {
   "cell_type": "code",
   "execution_count": 46,
   "metadata": {},
   "outputs": [
    {
     "name": "stdout",
     "output_type": "stream",
     "text": [
      "0.519254933069\n"
     ]
    }
   ],
   "source": [
    "clf = SVC(C=1.0, kernel='rbf', probability=True, random_state=67)\n",
    "y_pred = cross_val_out_of_sample(clf, X_train, y_train, X_cross, y_cross)"
   ]
  },
  {
   "cell_type": "markdown",
   "metadata": {},
   "source": [
    "### Gradient Boosting"
   ]
  },
  {
   "cell_type": "code",
   "execution_count": 47,
   "metadata": {},
   "outputs": [
    {
     "name": "stdout",
     "output_type": "stream",
     "text": [
      "0.524905428793\n"
     ]
    }
   ],
   "source": [
    "clf = GradientBoostingClassifier(learning_rate=0.1, max_depth=2, n_estimators=30, random_state=67)\n",
    "y_pred = cross_val_out_of_sample(clf, X_train, y_train, X_cross, y_cross)"
   ]
  },
  {
   "cell_type": "markdown",
   "metadata": {},
   "source": [
    "### MLP"
   ]
  },
  {
   "cell_type": "code",
   "execution_count": 48,
   "metadata": {},
   "outputs": [
    {
     "name": "stdout",
     "output_type": "stream",
     "text": [
      "0.487025945027\n"
     ]
    }
   ],
   "source": [
    "clf = MLPClassifier(alpha=0.00003, hidden_layer_sizes=(10,), max_iter=3000, random_state=67)\n",
    "y_pred = cross_val_out_of_sample(clf, X_train, y_train, X_cross, y_cross)"
   ]
  },
  {
   "cell_type": "markdown",
   "metadata": {},
   "source": [
    "## Prepare the test dataset"
   ]
  },
  {
   "cell_type": "code",
   "execution_count": 49,
   "metadata": {},
   "outputs": [
    {
     "data": {
      "text/html": [
       "<div>\n",
       "<style>\n",
       "    .dataframe thead tr:only-child th {\n",
       "        text-align: right;\n",
       "    }\n",
       "\n",
       "    .dataframe thead th {\n",
       "        text-align: left;\n",
       "    }\n",
       "\n",
       "    .dataframe tbody tr th {\n",
       "        vertical-align: top;\n",
       "    }\n",
       "</style>\n",
       "<table border=\"1\" class=\"dataframe\">\n",
       "  <thead>\n",
       "    <tr style=\"text-align: right;\">\n",
       "      <th></th>\n",
       "      <th>Months_Since_Last</th>\n",
       "      <th>Donations</th>\n",
       "      <th>Total_Volume</th>\n",
       "      <th>Months_Since_First</th>\n",
       "    </tr>\n",
       "  </thead>\n",
       "  <tbody>\n",
       "    <tr>\n",
       "      <th>659</th>\n",
       "      <td>2</td>\n",
       "      <td>12</td>\n",
       "      <td>3000</td>\n",
       "      <td>52</td>\n",
       "    </tr>\n",
       "    <tr>\n",
       "      <th>276</th>\n",
       "      <td>21</td>\n",
       "      <td>7</td>\n",
       "      <td>1750</td>\n",
       "      <td>38</td>\n",
       "    </tr>\n",
       "    <tr>\n",
       "      <th>263</th>\n",
       "      <td>4</td>\n",
       "      <td>1</td>\n",
       "      <td>250</td>\n",
       "      <td>4</td>\n",
       "    </tr>\n",
       "    <tr>\n",
       "      <th>303</th>\n",
       "      <td>11</td>\n",
       "      <td>11</td>\n",
       "      <td>2750</td>\n",
       "      <td>38</td>\n",
       "    </tr>\n",
       "    <tr>\n",
       "      <th>83</th>\n",
       "      <td>4</td>\n",
       "      <td>12</td>\n",
       "      <td>3000</td>\n",
       "      <td>34</td>\n",
       "    </tr>\n",
       "  </tbody>\n",
       "</table>\n",
       "</div>"
      ],
      "text/plain": [
       "     Months_Since_Last  Donations  Total_Volume  Months_Since_First\n",
       "659                  2         12          3000                  52\n",
       "276                 21          7          1750                  38\n",
       "263                  4          1           250                   4\n",
       "303                 11         11          2750                  38\n",
       "83                   4         12          3000                  34"
      ]
     },
     "execution_count": 49,
     "metadata": {},
     "output_type": "execute_result"
    }
   ],
   "source": [
    "X_test = pd.read_csv('https://s3.amazonaws.com/drivendata/data/2/public/5c9fa979-5a84-45d6-93b9-543d1a0efc41.csv', \n",
    "                     header=0, index_col=0, \n",
    "                     names=['Months_Since_Last', 'Donations', 'Total_Volume', \n",
    "                            'Months_Since_First'])\n",
    "X_test.head()"
   ]
  },
  {
   "cell_type": "code",
   "execution_count": 50,
   "metadata": {
    "collapsed": true
   },
   "outputs": [],
   "source": [
    "X_test = transform_dataframe(X_test)\n",
    "X_test[features] = X_test[features].apply(normalize, axis=0)"
   ]
  },
  {
   "cell_type": "code",
   "execution_count": 51,
   "metadata": {
    "collapsed": true
   },
   "outputs": [],
   "source": [
    "X_donations = transform_dataframe(X_donations)\n",
    "X_donations[features] = X_donations[features].apply(normalize, axis=0)"
   ]
  },
  {
   "cell_type": "markdown",
   "metadata": {},
   "source": [
    "## Retrain selected classifier on entire training dataset"
   ]
  },
  {
   "cell_type": "code",
   "execution_count": 58,
   "metadata": {},
   "outputs": [
    {
     "data": {
      "text/plain": [
       "MLPClassifier(activation='relu', alpha=3e-05, batch_size='auto', beta_1=0.9,\n",
       "       beta_2=0.999, early_stopping=False, epsilon=1e-08,\n",
       "       hidden_layer_sizes=(30,), learning_rate='constant',\n",
       "       learning_rate_init=0.001, max_iter=3000, momentum=0.9,\n",
       "       nesterovs_momentum=True, power_t=0.5, random_state=None,\n",
       "       shuffle=True, solver='adam', tol=0.0001, validation_fraction=0.1,\n",
       "       verbose=False, warm_start=False)"
      ]
     },
     "execution_count": 58,
     "metadata": {},
     "output_type": "execute_result"
    }
   ],
   "source": [
    "clf = MLPClassifier(alpha=0.00003, hidden_layer_sizes=(30,), max_iter=3000)\n",
    "clf.fit(X_donations, y_donations)"
   ]
  },
  {
   "cell_type": "markdown",
   "metadata": {},
   "source": [
    "## Predict if donors in the test dataset will donate blood"
   ]
  },
  {
   "cell_type": "code",
   "execution_count": 59,
   "metadata": {},
   "outputs": [
    {
     "data": {
      "text/html": [
       "<div>\n",
       "<style>\n",
       "    .dataframe thead tr:only-child th {\n",
       "        text-align: right;\n",
       "    }\n",
       "\n",
       "    .dataframe thead th {\n",
       "        text-align: left;\n",
       "    }\n",
       "\n",
       "    .dataframe tbody tr th {\n",
       "        vertical-align: top;\n",
       "    }\n",
       "</style>\n",
       "<table border=\"1\" class=\"dataframe\">\n",
       "  <thead>\n",
       "    <tr style=\"text-align: right;\">\n",
       "      <th></th>\n",
       "      <th>Made Donation in March 2007</th>\n",
       "    </tr>\n",
       "  </thead>\n",
       "  <tbody>\n",
       "    <tr>\n",
       "      <th>659</th>\n",
       "      <td>0.5224</td>\n",
       "    </tr>\n",
       "    <tr>\n",
       "      <th>276</th>\n",
       "      <td>0.0948</td>\n",
       "    </tr>\n",
       "    <tr>\n",
       "      <th>263</th>\n",
       "      <td>0.2107</td>\n",
       "    </tr>\n",
       "    <tr>\n",
       "      <th>303</th>\n",
       "      <td>0.3267</td>\n",
       "    </tr>\n",
       "    <tr>\n",
       "      <th>83</th>\n",
       "      <td>0.6045</td>\n",
       "    </tr>\n",
       "  </tbody>\n",
       "</table>\n",
       "</div>"
      ],
      "text/plain": [
       "     Made Donation in March 2007\n",
       "659                       0.5224\n",
       "276                       0.0948\n",
       "263                       0.2107\n",
       "303                       0.3267\n",
       "83                        0.6045"
      ]
     },
     "execution_count": 59,
     "metadata": {},
     "output_type": "execute_result"
    }
   ],
   "source": [
    "y_pred = clf.predict_proba(X_test)\n",
    "predict_df = pd.DataFrame({'Made Donation in March 2007': y_pred[:,1].round(4)}, \n",
    "                          index=X_test.index)\n",
    "predict_df.head()"
   ]
  },
  {
   "cell_type": "markdown",
   "metadata": {},
   "source": [
    "## Prepare submission file\n",
    "* The MLP classifier should result in a score of about 0.44."
   ]
  },
  {
   "cell_type": "code",
   "execution_count": 60,
   "metadata": {
    "collapsed": true
   },
   "outputs": [],
   "source": [
    "submission_filename = 'donation_submission_001.csv'\n",
    "predict_df.to_csv(submission_filename, index=True)"
   ]
  },
  {
   "cell_type": "code",
   "execution_count": null,
   "metadata": {
    "collapsed": true
   },
   "outputs": [],
   "source": []
  }
 ],
 "metadata": {
  "kernelspec": {
   "display_name": "Python 3",
   "language": "python",
   "name": "python3"
  },
  "language_info": {
   "codemirror_mode": {
    "name": "ipython",
    "version": 3
   },
   "file_extension": ".py",
   "mimetype": "text/x-python",
   "name": "python",
   "nbconvert_exporter": "python",
   "pygments_lexer": "ipython3",
   "version": "3.6.1"
  }
 },
 "nbformat": 4,
 "nbformat_minor": 2
}
